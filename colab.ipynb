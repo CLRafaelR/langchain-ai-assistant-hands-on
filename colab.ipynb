{
  "cells": [
    {
      "cell_type": "code",
      "execution_count": null,
      "metadata": {
        "id": "RrOkIgyDOWYG"
      },
      "outputs": [],
      "source": [
        "!git clone https://github.com/os1ma/langchain-ai-assistant-hands-on.git"
      ]
    },
    {
      "cell_type": "code",
      "execution_count": null,
      "metadata": {
        "id": "i9zVDViWObEn"
      },
      "outputs": [],
      "source": [
        "%cd langchain-ai-assistant-hands-on/webapp"
      ]
    },
    {
      "cell_type": "code",
      "execution_count": null,
      "metadata": {
        "id": "Wmul8hpyQhjl"
      },
      "outputs": [],
      "source": [
        "!pip install --quiet streamlit==1.27.1 langchain==0.0.306 openai==0.28.1 wikipedia==1.4.0"
      ]
    },
    {
      "cell_type": "code",
      "execution_count": null,
      "metadata": {},
      "outputs": [],
      "source": [
        "!ip addr show eth0 | grep inet | tr '/' ' ' | awk '{print $2}'"
      ]
    },
    {
      "cell_type": "code",
      "execution_count": null,
      "metadata": {
        "id": "DNf5nVyLSEbb"
      },
      "outputs": [],
      "source": [
        "!streamlit run streamlit_app.py & npx localtunnel --port 8501"
      ]
    }
  ],
  "metadata": {
    "colab": {
      "provenance": []
    },
    "kernelspec": {
      "display_name": "Python 3",
      "name": "python3"
    },
    "language_info": {
      "name": "python"
    }
  },
  "nbformat": 4,
  "nbformat_minor": 0
}
