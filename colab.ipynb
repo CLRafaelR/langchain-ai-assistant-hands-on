{
  "cells": [
    {
      "cell_type": "markdown",
      "metadata": {},
      "source": [
        "# LangChainでAIアシスタントを動かすハンズオン\n",
        "\n",
        "- GitHub: https://github.com/os1ma/langchain-ai-assistant-hands-on\n",
        "- イベントページ: https://studyco.connpass.com/event/298456/"
      ]
    },
    {
      "cell_type": "code",
      "execution_count": null,
      "metadata": {
        "id": "RrOkIgyDOWYG"
      },
      "outputs": [],
      "source": [
        "# GitHubからソースコードを取得\n",
        "!git clone https://github.com/os1ma/langchain-ai-assistant-hands-on.git"
      ]
    },
    {
      "cell_type": "code",
      "execution_count": 3,
      "metadata": {
        "id": "i9zVDViWObEn"
      },
      "outputs": [
        {
          "name": "stdout",
          "output_type": "stream",
          "text": [
            "d:\\llm-playground\\langchain-ai-assistant-hands-on\\webapp\n"
          ]
        }
      ],
      "source": [
        "# ディレクトリを移動\n",
        "%cd webapp"
      ]
    },
    {
      "cell_type": "code",
      "execution_count": null,
      "metadata": {
        "id": "Wmul8hpyQhjl"
      },
      "outputs": [],
      "source": [
        "# Streamlit・LangChainなどのインストール\n",
        "#!pip install --quiet streamlit==1.27.1 langchain==0.0.306 openai==0.28.1 wikipedia==1.4.0"
      ]
    },
    {
      "cell_type": "code",
      "execution_count": 4,
      "metadata": {
        "id": "DNf5nVyLSEbb"
      },
      "outputs": [
        {
          "name": "stdout",
          "output_type": "stream",
          "text": [
            "^C\n"
          ]
        }
      ],
      "source": [
        "# simple_app.pyを実行\n",
        "!streamlit run simple_app.py & npx localtunnel --port 8501"
      ]
    },
    {
      "cell_type": "code",
      "execution_count": 5,
      "metadata": {},
      "outputs": [
        {
          "name": "stdout",
          "output_type": "stream",
          "text": [
            "^C\n"
          ]
        }
      ],
      "source": [
        "# agent_app.pyを実行\n",
        "!streamlit run agent_app.py & npx localtunnel --port 8501"
      ]
    }
  ],
  "metadata": {
    "colab": {
      "provenance": []
    },
    "kernelspec": {
      "display_name": "Python 3",
      "name": "python3"
    },
    "language_info": {
      "codemirror_mode": {
        "name": "ipython",
        "version": 3
      },
      "file_extension": ".py",
      "mimetype": "text/x-python",
      "name": "python",
      "nbconvert_exporter": "python",
      "pygments_lexer": "ipython3",
      "version": "3.10.8"
    }
  },
  "nbformat": 4,
  "nbformat_minor": 0
}
