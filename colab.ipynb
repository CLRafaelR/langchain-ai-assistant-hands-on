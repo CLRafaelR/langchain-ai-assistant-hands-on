{
  "nbformat": 4,
  "nbformat_minor": 0,
  "metadata": {
    "colab": {
      "provenance": []
    },
    "kernelspec": {
      "name": "python3",
      "display_name": "Python 3"
    },
    "language_info": {
      "name": "python"
    }
  },
  "cells": [
    {
      "cell_type": "code",
      "source": [
        "!git clone https://github.com/os1ma/langchain-ai-assistant-hands-on.git"
      ],
      "metadata": {
        "id": "RrOkIgyDOWYG"
      },
      "execution_count": null,
      "outputs": []
    },
    {
      "cell_type": "code",
      "source": [
        "%cd langchain-ai-assistant-hands-on/webapp"
      ],
      "metadata": {
        "id": "i9zVDViWObEn"
      },
      "execution_count": null,
      "outputs": []
    },
    {
      "cell_type": "code",
      "source": [
        "!pip install --quiet streamlit==1.27.1 langchain==0.0.306 python-dotenv==1.0.0 openai==0.28.1"
      ],
      "metadata": {
        "id": "Wmul8hpyQhjl"
      },
      "execution_count": null,
      "outputs": []
    },
    {
      "cell_type": "code",
      "source": [
        "!streamlit run http://app.py & npx localtunnel --port 8501"
      ],
      "metadata": {
        "id": "DNf5nVyLSEbb"
      },
      "execution_count": null,
      "outputs": []
    }
  ]
}