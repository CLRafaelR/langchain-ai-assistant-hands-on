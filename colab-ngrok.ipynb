{
  "cells": [
    {
      "cell_type": "markdown",
      "metadata": {},
      "source": [
        "# LangChainでAIアシスタントを動かすハンズオン\n",
        "\n",
        "- GitHub: https://github.com/os1ma/langchain-ai-assistant-hands-on\n",
        "- イベントページ: https://studyco.connpass.com/event/298456/"
      ]
    },
    {
      "cell_type": "code",
      "execution_count": null,
      "metadata": {
        "id": "RrOkIgyDOWYG"
      },
      "outputs": [],
      "source": [
        "# GitHubからソースコードを取得\n",
        "!git clone https://github.com/os1ma/langchain-ai-assistant-hands-on.git"
      ]
    },
    {
      "cell_type": "code",
      "execution_count": null,
      "metadata": {
        "id": "i9zVDViWObEn"
      },
      "outputs": [],
      "source": [
        "# ディレクトリを移動\n",
        "%cd langchain-ai-assistant-hands-on/webapp"
      ]
    },
    {
      "cell_type": "code",
      "execution_count": null,
      "metadata": {
        "id": "Wmul8hpyQhjl"
      },
      "outputs": [],
      "source": [
        "# Streamlit・LangChainなどのインストール\n",
        "!pip install --quiet streamlit==1.27.1 langchain==0.0.306 openai==0.28.1 wikipedia==1.4.0"
      ]
    },
    {
      "cell_type": "code",
      "execution_count": null,
      "metadata": {},
      "outputs": [],
      "source": [
        "# ngrokのインストール\n",
        "!pip install pyngrok==7.0.0"
      ]
    },
    {
      "cell_type": "code",
      "execution_count": null,
      "metadata": {},
      "outputs": [],
      "source": [
        "# 以下のURLからngrokに登録して認証トークンを払い出してください。\n",
        "# https://ngrok.com/\n",
        "\n",
        "# ngrokの認証トークンを設定\n",
        "!ngrok config add-authtoken <your-ngrok-auth-token>"
      ]
    },
    {
      "cell_type": "code",
      "execution_count": null,
      "metadata": {},
      "outputs": [],
      "source": [
        "# ngrokの起動\n",
        "from pyngrok import ngrok\n",
        "\n",
        "ngrok.kill()\n",
        "tunnel = ngrok.connect(\"8501\", \"http\")\n",
        "print(tunnel.public_url)"
      ]
    },
    {
      "cell_type": "code",
      "execution_count": null,
      "metadata": {
        "id": "DNf5nVyLSEbb"
      },
      "outputs": [],
      "source": [
        "# simple_app.pyを実行\n",
        "!streamlit run simple_app.py"
      ]
    },
    {
      "cell_type": "code",
      "execution_count": null,
      "metadata": {},
      "outputs": [],
      "source": [
        "# ngrokの起動\n",
        "from pyngrok import ngrok\n",
        "\n",
        "ngrok.kill()\n",
        "tunnel = ngrok.connect(\"8501\", \"http\")\n",
        "print(tunnel.public_url)"
      ]
    },
    {
      "cell_type": "code",
      "execution_count": null,
      "metadata": {},
      "outputs": [],
      "source": [
        "# agent_app.pyを実行\n",
        "!streamlit run agent_app.py"
      ]
    }
  ],
  "metadata": {
    "colab": {
      "provenance": []
    },
    "kernelspec": {
      "display_name": "Python 3",
      "name": "python3"
    },
    "language_info": {
      "name": "python"
    }
  },
  "nbformat": 4,
  "nbformat_minor": 0
}
